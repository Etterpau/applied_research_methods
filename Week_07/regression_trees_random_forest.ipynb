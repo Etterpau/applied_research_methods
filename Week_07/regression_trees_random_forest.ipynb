{
 "cells": [
  {
   "cell_type": "markdown",
   "id": "f40d2887",
   "metadata": {},
   "source": [
    "# Regression Trees & Random Forest Regression"
   ]
  },
  {
   "cell_type": "markdown",
   "id": "1b71a018",
   "metadata": {},
   "source": [
    "## Libraries and settings"
   ]
  },
  {
   "cell_type": "code",
   "execution_count": null,
   "id": "66dc5534",
   "metadata": {},
   "outputs": [],
   "source": [
    "# Libraries\n",
    "import os\n",
    "import numpy as np\n",
    "import pandas as pd\n",
    "from sklearn import tree\n",
    "import matplotlib.pyplot as plt\n",
    "from sklearn.metrics import r2_score\n",
    "from sklearn.datasets import make_regression\n",
    "from sklearn.tree import DecisionTreeRegressor\n",
    "from sklearn.ensemble import RandomForestRegressor\n",
    "from sklearn.model_selection import train_test_split\n",
    "\n",
    "# Ignore warnings\n",
    "import warnings\n",
    "warnings.filterwarnings('ignore')\n",
    "\n",
    "# Show current working directory\n",
    "print(os.getcwd())"
   ]
  },
  {
   "cell_type": "markdown",
   "id": "d9c0ced7",
   "metadata": {},
   "source": [
    "## Import the apartment data"
   ]
  },
  {
   "cell_type": "code",
   "execution_count": null,
   "id": "0abc23fc",
   "metadata": {},
   "outputs": [],
   "source": [
    "# Define columns for import\n",
    "columns = [ 'web-scraper-order',\n",
    "            'address_raw',\n",
    "            'rooms',\n",
    "            'area',\n",
    "            'luxurious',\n",
    "            'price',\n",
    "            'price_per_m2',\n",
    "            'lat',\n",
    "            'lon',\n",
    "            'bfs_number',\n",
    "            'bfs_name',\n",
    "            'pop',\n",
    "            'pop_dens',\n",
    "            'frg_pct',\n",
    "            'emp',\n",
    "            'mean_taxable_income',\n",
    "            'dist_supermarket']\n",
    "\n",
    "# Read and select variables\n",
    "df_orig = pd.read_csv(\"./Data/apartments_data_enriched_cleaned.csv\", sep=\";\", encoding='utf-8')[columns]\n",
    "\n",
    "# Rename variable 'web-scraper-order' to 'apmt_id'\n",
    "df_orig = df_orig.rename(columns={'web-scraper-order': 'id'})\n",
    "\n",
    "# Remove missing values\n",
    "df = df_orig.dropna()\n",
    "df.head(5)\n",
    "\n",
    "# Remove duplicates\n",
    "df = df.drop_duplicates()\n",
    "\n",
    "# Remove some 'extreme' values\n",
    "df = df.loc[(df['price'] >= 1000) & \n",
    "            (df['price'] <= 5000)]\n",
    "\n",
    "# Reset index\n",
    "df = df.reset_index(drop=True)\n",
    "\n",
    "print(df.shape)\n",
    "df.head(5)"
   ]
  },
  {
   "cell_type": "markdown",
   "id": "912a7cad",
   "metadata": {},
   "source": [
    "## Regression Tree\n",
    "See also: https://data36.com/regression-tree-python-scikit-learn"
   ]
  },
  {
   "cell_type": "markdown",
   "id": "82198a19",
   "metadata": {},
   "source": [
    "### Create train and test samples for the regression tree (train = 80%, test = 20% of the data)"
   ]
  },
  {
   "cell_type": "code",
   "execution_count": null,
   "id": "6d76a5cc",
   "metadata": {},
   "outputs": [],
   "source": [
    "# Create train and test samples\n",
    "X_train, X_test, y_train, y_test = train_test_split(df[['area', \n",
    "                                                        'rooms',\n",
    "                                                        'pop_dens',\n",
    "                                                        'mean_taxable_income',\n",
    "                                                        'dist_supermarket']], \n",
    "                                                        df['price'], \n",
    "                                                        test_size=0.20, \n",
    "                                                        random_state=42)\n",
    "\n",
    "# Show X_train\n",
    "print('X_train:')\n",
    "print(X_train.head(), '\\n')\n",
    "\n",
    "# Show y_train\n",
    "print('y_train:')\n",
    "print(y_train.head())"
   ]
  },
  {
   "cell_type": "markdown",
   "id": "93f65098",
   "metadata": {},
   "source": [
    "### Fit the regression tree model"
   ]
  },
  {
   "cell_type": "code",
   "execution_count": 14,
   "id": "23141c86",
   "metadata": {},
   "outputs": [],
   "source": [
    "# Create decision tree regressor object\n",
    "reg = DecisionTreeRegressor(random_state=20, max_depth=3)\n",
    "\n",
    "# Train decision tree regressor\n",
    "reg = reg.fit(X_train, y_train)\n",
    "\n",
    "# Predict the response for test dataset\n",
    "y_pred = reg.predict(X_test)"
   ]
  },
  {
   "cell_type": "markdown",
   "id": "a104a81a",
   "metadata": {},
   "source": [
    "### Calculate coefficient of determination (R-squared)"
   ]
  },
  {
   "cell_type": "code",
   "execution_count": null,
   "id": "2214835a",
   "metadata": {},
   "outputs": [],
   "source": [
    "# Calculate coefficient of determination\n",
    "print('R-squared:', r2_score(y_test, y_pred))"
   ]
  },
  {
   "cell_type": "markdown",
   "id": "2241dece",
   "metadata": {},
   "source": [
    "### Print text representation of the regression tree"
   ]
  },
  {
   "cell_type": "code",
   "execution_count": null,
   "id": "0df6062b",
   "metadata": {},
   "outputs": [],
   "source": [
    "# Text representation of the regression tree\n",
    "text_representation = tree.export_text(reg, \n",
    "                                       feature_names=list(X_train.columns))\n",
    "\n",
    "# Print text_representation\n",
    "print(text_representation)"
   ]
  },
  {
   "cell_type": "markdown",
   "id": "afec49c6",
   "metadata": {},
   "source": [
    "### Vizualizing the regression tree"
   ]
  },
  {
   "cell_type": "code",
   "execution_count": null,
   "id": "e9267117",
   "metadata": {},
   "outputs": [],
   "source": [
    "fig = plt.figure(figsize=(12,6))\n",
    "_ = tree.plot_tree(reg, \n",
    "                   feature_names=list(X_train.columns),  \n",
    "                   class_names=['price'],\n",
    "                   filled=True,\n",
    "                   fontsize=9,\n",
    "                   label='root',\n",
    "                   rounded=True)"
   ]
  },
  {
   "cell_type": "markdown",
   "id": "60d6ed7c",
   "metadata": {},
   "source": [
    "## Random Forest Regression\n",
    "For details see: https://scikit-learn.org/stable/modules/generated/sklearn.ensemble.RandomForestRegressor.html"
   ]
  },
  {
   "cell_type": "markdown",
   "id": "545f9034",
   "metadata": {},
   "source": [
    "### Create train and test samples for the random forest (train = 80%, test = 20% of the data)"
   ]
  },
  {
   "cell_type": "code",
   "execution_count": 34,
   "id": "d0ffb139",
   "metadata": {},
   "outputs": [
    {
     "name": "stdout",
     "output_type": "stream",
     "text": [
      "X2_train:\n",
      "     area  rooms     pop_dens  mean_taxable_income  dist_supermarket\n",
      "456   120    6.5   165.018625          65380.98802       1958.318650\n",
      "6      65    3.5   525.662252         111422.35870        282.095910\n",
      "362    90    3.5   424.146342          72133.75058       2606.231069\n",
      "594    63    2.5  1044.628957          70964.08794        564.607066\n",
      "439    91    3.5   399.525129          62000.54187        646.823905 \n",
      "\n",
      "y2_train:\n",
      "456    1900\n",
      "6      1850\n",
      "362    2090\n",
      "594    2102\n",
      "439    1800\n",
      "Name: price, dtype: int64\n"
     ]
    }
   ],
   "source": [
    "# Create train and test samples (the names X2_ and y2_ were used because X_ and y_ were already used above)\n",
    "X2_train, X2_test, y2_train, y2_test = train_test_split(df[['area', \n",
    "                                                            'rooms',\n",
    "                                                            'pop_dens',\n",
    "                                                            'mean_taxable_income',\n",
    "                                                            'dist_supermarket']], \n",
    "                                                            df['price'], \n",
    "                                                            test_size=0.20, \n",
    "                                                            random_state=42)\n",
    "\n",
    "# Show X2_train\n",
    "print('X2_train:')\n",
    "print(X2_train.head(), '\\n')\n",
    "\n",
    "# Show y2_train\n",
    "print('y2_train:')\n",
    "print(y2_train.head())"
   ]
  },
  {
   "cell_type": "markdown",
   "id": "f565dc23",
   "metadata": {},
   "source": [
    "### Fit the Random Forest Regression"
   ]
  },
  {
   "cell_type": "code",
   "execution_count": 35,
   "id": "6eb896c2",
   "metadata": {},
   "outputs": [
    {
     "name": "stdout",
     "output_type": "stream",
     "text": [
      "R-squared: 0.5481207818328262\n"
     ]
    }
   ],
   "source": [
    "X, y = make_regression(n_features=4, n_informative=2,\n",
    "                       random_state=5, shuffle=False)\n",
    "\n",
    "\n",
    "reg_rf = RandomForestRegressor(n_estimators=500, \n",
    "                               max_depth=10, \n",
    "                               random_state=5)\n",
    "reg_rf.fit(X2_train, y2_train)\n",
    "\n",
    "# Calculate coefficient of determination (R-squared)\n",
    "print('R-squared:', reg_rf.score(X2_test, y2_test))"
   ]
  },
  {
   "cell_type": "markdown",
   "id": "888014a9",
   "metadata": {},
   "source": [
    "### Show feature importance"
   ]
  },
  {
   "cell_type": "code",
   "execution_count": 36,
   "id": "b51f4d42",
   "metadata": {},
   "outputs": [
    {
     "name": "stdout",
     "output_type": "stream",
     "text": [
      "Index(['area', 'pop_dens', 'dist_supermarket', 'mean_taxable_income', 'rooms'], dtype='object')\n",
      "[0.56749536 0.16751781 0.11611526 0.09147853 0.05739305]\n"
     ]
    },
    {
     "data": {
      "image/png": "[encoded data removed]",
      "text/plain": [
       "<Figure size 600x300 with 1 Axes>"
      ]
     },
     "metadata": {},
     "output_type": "display_data"
    }
   ],
   "source": [
    "cols = X2_train.columns\n",
    "\n",
    "# Derive feature importance from random forest\n",
    "importances = reg_rf.feature_importances_\n",
    "std         = np.std([tree.feature_importances_ for tree in reg_rf.estimators_], axis=0)\n",
    "indices     = np.argsort(importances)[::-1]\n",
    "\n",
    "# Print col-names and importances-values\n",
    "print( cols[indices] )\n",
    "print( importances[indices] )\n",
    "\n",
    "# Barplot with feature importance\n",
    "df_fi = pd.DataFrame({'features':cols,'importances': importances})\n",
    "df_fi.sort_values('importances', inplace=True)\n",
    "df_fi.plot(kind='barh', \n",
    "           y='importances', \n",
    "           x='features', \n",
    "           color='darkred', \n",
    "           figsize=(6,3))\n",
    "\n",
    "plt.show()"
   ]
  },
  {
   "cell_type": "markdown",
   "id": "87fac6fb",
   "metadata": {},
   "source": [
    "### Task 2b) Change the model parameter max_depth=3 to max_depth=5. This will change the depth (complexity) of the tree. Compare the output (text and graphic) with the output of the original regression tree (in which max_depth=3). Do you see any differences? In the Jupyter notebook, explain why."
   ]
  },
  {
   "cell_type": "code",
   "execution_count": 4,
   "id": "c8de20fc",
   "metadata": {},
   "outputs": [],
   "source": [
    "# Create decision tree regressor object\n",
    "reg = DecisionTreeRegressor(random_state=20, max_depth=5)\n",
    "\n",
    "# Train decision tree regressor\n",
    "reg = reg.fit(X_train, y_train)\n",
    "\n",
    "# Predict the response for test dataset\n",
    "y_pred = reg.predict(X_test)"
   ]
  },
  {
   "cell_type": "code",
   "execution_count": null,
   "id": "31d1cf12",
   "metadata": {},
   "outputs": [],
   "source": [
    "# Calculate coefficient of determination\n",
    "print('R-squared:', r2_score(y_test, y_pred))"
   ]
  },
  {
   "cell_type": "code",
   "execution_count": null,
   "id": "6a92ab9e",
   "metadata": {},
   "outputs": [],
   "source": [
    "# Text representation of the regression tree\n",
    "text_representation = tree.export_text(reg, \n",
    "                                       feature_names=list(X_train.columns))\n",
    "\n",
    "# Print text_representation\n",
    "print(text_representation)"
   ]
  },
  {
   "cell_type": "code",
   "execution_count": null,
   "id": "5292b9f9",
   "metadata": {},
   "outputs": [],
   "source": [
    "fig = plt.figure(figsize=(12,6))\n",
    "_ = tree.plot_tree(reg, \n",
    "                   feature_names=list(X_train.columns),  \n",
    "                   class_names=['price'],\n",
    "                   filled=True,\n",
    "                   fontsize=9,\n",
    "                   label='root',\n",
    "                   rounded=True)"
   ]
  },
  {
   "cell_type": "markdown",
   "id": "1f17cdca",
   "metadata": {},
   "source": [
    "### Explanation:\n",
    "\n",
    "There are now 6 levels (before were only 4). There are now much more criterias like rooms, mean_taxable_income, dist_supermarkets etc. "
   ]
  },
  {
   "cell_type": "markdown",
   "id": "70905a4a",
   "metadata": {},
   "source": [
    "### Task 2c) Look at the coefficient of determination (R-squared). Now, go to the section ‘Create train and test samples for the regression tree …’. Drop the two variables area and rooms from the train and test samples. Run the Jupyter notebook again. Does the R-squared value change? If so, explain why in the Jupyter notebook."
   ]
  },
  {
   "cell_type": "markdown",
   "id": "f678f5b0",
   "metadata": {},
   "source": [
    "Original R-squared: 0.4501765721318767"
   ]
  },
  {
   "cell_type": "code",
   "execution_count": null,
   "id": "f9631a40",
   "metadata": {},
   "outputs": [],
   "source": [
    "# Create train and test samples (the names X7_ and y7_ were used because X_ and y_ were already used above)\n",
    "X7_train, X7_test, y7_train, y7_test = train_test_split(df[['pop_dens',\n",
    "                                                            'mean_taxable_income',\n",
    "                                                            'dist_supermarket']], \n",
    "                                                            df['price'], \n",
    "                                                            test_size=0.20, \n",
    "                                                            random_state=42)\n",
    "\n",
    "# Show X7_train\n",
    "print('X7_train:')\n",
    "print(X7_train.head(), '\\n')\n",
    "\n",
    "# Show y7_train\n",
    "print('y7_train:')\n",
    "print(y7_train.head())"
   ]
  },
  {
   "cell_type": "code",
   "execution_count": null,
   "id": "eb14adee",
   "metadata": {},
   "outputs": [],
   "source": [
    "# Create decision tree regressor object\n",
    "reg = DecisionTreeRegressor(random_state=20, max_depth=3)\n",
    "\n",
    "# Train decision tree regressor\n",
    "reg = reg.fit(X7_train, y7_train)\n",
    "\n",
    "# Predict the response for test dataset\n",
    "y7_pred = reg.predict(X7_test)"
   ]
  },
  {
   "cell_type": "code",
   "execution_count": null,
   "id": "46fbbca6",
   "metadata": {},
   "outputs": [],
   "source": [
    "# Calculate coefficient of determination\n",
    "print('R-squared:', r2_score(y7_test, y7_pred))"
   ]
  },
  {
   "cell_type": "markdown",
   "id": "dd8e024c",
   "metadata": {},
   "source": [
    "### Explanation: \n",
    "Yes the R-squared changes from 0.45 to 0.05. The reason is we removed two variables and now the explanatory variables (Populationdensity, Mean taxable Income, Distance to supermarkets) explain only 5% of the variation of our target value (prices). This is very low.\n",
    "\n"
   ]
  },
  {
   "cell_type": "markdown",
   "id": "0da1467b",
   "metadata": {},
   "source": [
    "### Task 2d) Note that ‘features’ is another name for the ‘explanatory variables’ in a Machine Learning (ML) model. The barchart should look like in the exercises:"
   ]
  },
  {
   "cell_type": "code",
   "execution_count": null,
   "id": "5d2bf56b",
   "metadata": {},
   "outputs": [],
   "source": [
    "cols = X7_train.columns\n",
    "\n",
    "# Derive feature importance from random forest\n",
    "importances = reg_rf.feature_importances_\n",
    "std         = np.std([tree.feature_importances_ for tree in reg_rf.estimators_], axis=0)\n",
    "indices     = np.argsort(importances)[::-1]\n",
    "\n",
    "# Print col-names and importances-values\n",
    "print( cols[indices] )\n",
    "print( importances[indices] )\n",
    "\n",
    "# Barplot with feature importance\n",
    "df_fi = pd.DataFrame({'features':cols,'importances': importances})\n",
    "df_fi.sort_values('importances', inplace=True)\n",
    "df_fi.plot(kind='barh', \n",
    "           y='importances', \n",
    "           x='features', \n",
    "           color='purple', \n",
    "           figsize=(6,3))\n",
    "\n",
    "plt.show()"
   ]
  },
  {
   "cell_type": "markdown",
   "id": "2e083ab8",
   "metadata": {},
   "source": [
    "### Task 2e) Drop the variable area & run the \"create train and test samples\" again. Does the drop change the importance of features?"
   ]
  },
  {
   "cell_type": "code",
   "execution_count": 31,
   "id": "523cb546",
   "metadata": {},
   "outputs": [
    {
     "name": "stdout",
     "output_type": "stream",
     "text": [
      "X8_train:\n",
      "     rooms     pop_dens  mean_taxable_income  dist_supermarket\n",
      "456    6.5   165.018625          65380.98802       1958.318650\n",
      "6      3.5   525.662252         111422.35870        282.095910\n",
      "362    3.5   424.146342          72133.75058       2606.231069\n",
      "594    2.5  1044.628957          70964.08794        564.607066\n",
      "439    3.5   399.525129          62000.54187        646.823905 \n",
      "\n",
      "y8_train:\n",
      "456    1900\n",
      "6      1850\n",
      "362    2090\n",
      "594    2102\n",
      "439    1800\n",
      "Name: price, dtype: int64\n"
     ]
    }
   ],
   "source": [
    "# Create train and test samples (the names X2_ and y2_ were used because X_ and y_ were already used above)\n",
    "X8_train, X8_test, y8_train, y8_test = train_test_split(df[['rooms',\n",
    "                                                            'pop_dens',\n",
    "                                                            'mean_taxable_income',\n",
    "                                                            'dist_supermarket']], \n",
    "                                                            df['price'], \n",
    "                                                            test_size=0.20, \n",
    "                                                            random_state=42)\n",
    "\n",
    "# Show X8_train\n",
    "print('X8_train:')\n",
    "print(X8_train.head(), '\\n')\n",
    "\n",
    "# Show y8_train\n",
    "print('y8_train:')\n",
    "print(y8_train.head())"
   ]
  },
  {
   "cell_type": "code",
   "execution_count": 32,
   "id": "cedaa3a3",
   "metadata": {},
   "outputs": [
    {
     "name": "stdout",
     "output_type": "stream",
     "text": [
      "R-squared8: 0.3215114677246661\n"
     ]
    }
   ],
   "source": [
    "X8, y8 = make_regression(n_features=4, n_informative=2,\n",
    "                       random_state=5, shuffle=False)\n",
    "\n",
    "\n",
    "reg8_rf = RandomForestRegressor(n_estimators=500, \n",
    "                               max_depth=10, \n",
    "                               random_state=5)\n",
    "reg8_rf.fit(X8_train, y8_train)\n",
    "\n",
    "# Calculate coefficient of determination (R-squared)\n",
    "print('R-squared8:', reg8_rf.score(X8_test, y8_test))"
   ]
  },
  {
   "cell_type": "code",
   "execution_count": 37,
   "id": "4e07630f",
   "metadata": {},
   "outputs": [
    {
     "name": "stdout",
     "output_type": "stream",
     "text": [
      "Index(['rooms', 'dist_supermarket', 'mean_taxable_income', 'pop_dens'], dtype='object')\n",
      "[0.39736226 0.27042968 0.17860647 0.15360159]\n"
     ]
    },
    {
     "data": {
      "image/png": "[encoded data removed]",
      "text/plain": [
       "<Figure size 600x300 with 1 Axes>"
      ]
     },
     "metadata": {},
     "output_type": "display_data"
    }
   ],
   "source": [
    "cols8 = X8_train.columns\n",
    "\n",
    "# Derive feature importance from random forest\n",
    "importances = reg8_rf.feature_importances_\n",
    "std         = np.std([tree.feature_importances_ for tree in reg8_rf.estimators_], axis=0)\n",
    "indices     = np.argsort(importances)[::-1]\n",
    "\n",
    "# Print col-names and importances-values\n",
    "print( cols8[indices] )\n",
    "print( importances[indices] )\n",
    "\n",
    "# Barplot with feature importance\n",
    "df_fi = pd.DataFrame({'features':cols8,'importances': importances})\n",
    "df_fi.sort_values('importances', inplace=True)\n",
    "df_fi.plot(kind='barh', \n",
    "           y='importances', \n",
    "           x='features', \n",
    "           color='orange', \n",
    "           figsize=(6,3))\n",
    "\n",
    "plt.show()"
   ]
  },
  {
   "cell_type": "markdown",
   "id": "85c40802",
   "metadata": {},
   "source": [
    "### Explanation: \n",
    "Before: Rooms = 0.057, mean_taxable_income = 0.091, dist_supermarket = 0.116 and pop_dens = 0.167\n",
    "\n",
    "New: Rooms = 0.397, mean_taxable_income = 0.178, dist_supermarket = 0.27 and pop_dens = 0.153\n",
    "\n",
    "--> because we have an explanatory variable less than in the original."
   ]
  },
  {
   "cell_type": "markdown",
   "id": "f5dc21b7",
   "metadata": {},
   "source": [
    "### Jupyter notebook --footer info-- (please always provide this at the end of each submitted notebook)"
   ]
  },
  {
   "cell_type": "code",
   "execution_count": null,
   "id": "6908ed12",
   "metadata": {},
   "outputs": [],
   "source": [
    "import os\n",
    "import platform\n",
    "import socket\n",
    "from platform import python_version\n",
    "from datetime import datetime\n",
    "\n",
    "print('-----------------------------------')\n",
    "print(os.name.upper())\n",
    "print(platform.system(), '|', platform.release())\n",
    "print('Datetime:', datetime.now().strftime(\"%Y-%m-%d %H:%M:%S\"))\n",
    "print('Python Version:', python_version())\n",
    "print('-----------------------------------')"
   ]
  }
 ],
 "metadata": {
  "kernelspec": {
   "display_name": "Python 3",
   "language": "python",
   "name": "python3"
  },
  "language_info": {
   "codemirror_mode": {
    "name": "ipython",
    "version": 3
   },
   "file_extension": ".py",
   "mimetype": "text/x-python",
   "name": "python",
   "nbconvert_exporter": "python",
   "pygments_lexer": "ipython3",
   "version": "3.11.10"
  }
 },
 "nbformat": 4,
 "nbformat_minor": 5
}
